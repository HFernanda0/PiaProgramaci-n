{
  "nbformat": 4,
  "nbformat_minor": 0,
  "metadata": {
    "colab": {
      "provenance": []
    },
    "kernelspec": {
      "name": "python3",
      "display_name": "Python 3"
    },
    "language_info": {
      "name": "python"
    }
  },
  "cells": [
    {
      "cell_type": "code",
      "execution_count": null,
      "metadata": {
        "colab": {
          "base_uri": "https://localhost:8080/"
        },
        "id": "QmV2sXUVfWAr",
        "outputId": "3ea011c5-09c6-49aa-9643-1856f90baab6"
      },
      "outputs": [
        {
          "output_type": "stream",
          "name": "stdout",
          "text": [
            "Programa 1 ejecutado.\n",
            "Programa 2 ejecutado.\n",
            "Programa 3 ejecutado.\n"
          ]
        }
      ],
      "source": [
        "class Tres_programas:\n",
        "    def __init__(self):\n",
        "        # Puedes inicializar atributos aquí si es necesario\n",
        "        pass\n",
        "\n",
        "    def programa_1(self):\n",
        "        # Lógica del primer programa\n",
        "        print(\"Programa 1 ejecutado.\")\n",
        "\n",
        "    def programa_2(self):\n",
        "        # Lógica del segundo programa\n",
        "        print(\"Programa 2 ejecutado.\")\n",
        "\n",
        "    def programa_3(self):\n",
        "        # Lógica del tercer programa\n",
        "        print(\"Programa 3 ejecutado.\")\n",
        "\n",
        "# Ejemplo de uso\n",
        "tres_programas = Tres_programas()\n",
        "tres_programas.programa_1()\n",
        "tres_programas.programa_2()\n",
        "tres_programas.programa_3()\n"
      ]
    },
    {
      "cell_type": "code",
      "source": [
        "class descuento_clientes:\n",
        "    def __init__(self, compra):\n",
        "        self.compra = compra\n",
        "\n",
        "    def descuento_clientes(self):\n",
        "        if self.compra < 500:\n",
        "            descuento = 0\n",
        "        elif 500 <= self.compra <= 1000:\n",
        "            descuento = 0.05\n",
        "        elif 1000 < self.compra <= 7000:\n",
        "            descuento = 0.11\n",
        "        elif 7000 < self.compra <= 15000:\n",
        "            descuento = 0.18\n",
        "        else:\n",
        "            descuento = 0.25\n",
        "\n",
        "        monto_descuento = self.compra * descuento\n",
        "        total_pagar = self.compra - monto_descuento\n",
        "\n",
        "        return total_pagar\n",
        "\n",
        "# Ejemplo de uso\n",
        "monto_compra = float(input(\"Ingrese el monto de la compra: \"))\n",
        "tienda = descuento_clientes(monto_compra)  # Cambié \"Tienda\" a \"descuento_clientes\"\n",
        "total_a_pagar = tienda.descuento_clientes()\n",
        "print(f\"El cliente debe pagar: {total_a_pagar}\")\n",
        "\n"
      ],
      "metadata": {
        "colab": {
          "base_uri": "https://localhost:8080/"
        },
        "id": "IAVAP0Dhgajm",
        "outputId": "3dcb9609-b242-4d3e-b13d-a0f6c2e0aa8d"
      },
      "execution_count": null,
      "outputs": [
        {
          "output_type": "stream",
          "name": "stdout",
          "text": [
            "Ingrese el monto de la compra: 1000\n",
            "El cliente debe pagar: 950.0\n"
          ]
        }
      ]
    },
    {
      "cell_type": "code",
      "source": [
        "class Tienda:\n",
        "    def __init__(self, compra):\n",
        "        self.COMPRA = compra\n",
        "        self.PAGAR = self.descuento_clientes()\n",
        "\n",
        "    def descuento_clientes(self):\n",
        "        if self.COMPRA < 500:\n",
        "            descuento = 0\n",
        "        elif 500 <= self.COMPRA <= 1000:\n",
        "            descuento = 0.05\n",
        "        elif 1000 < self.COMPRA <= 7000:\n",
        "            descuento = 0.11\n",
        "        elif 7000 < self.COMPRA <= 15000:\n",
        "            descuento = 0.18\n",
        "        else:\n",
        "            descuento = 0.25\n",
        "\n",
        "        monto_descuento = self.COMPRA * descuento\n",
        "        total_pagar = self.COMPRA - monto_descuento\n",
        "\n",
        "        return total_pagar\n",
        "\n",
        "# Ejemplo de uso\n",
        "monto_compra = float(input(\"Ingrese el monto de la compra: \"))\n",
        "tienda = Tienda(monto_compra)\n",
        "print(f\"El cliente debe pagar: {tienda.PAGAR}\")\n"
      ],
      "metadata": {
        "colab": {
          "base_uri": "https://localhost:8080/"
        },
        "id": "uZ_X3s8Bhkbk",
        "outputId": "06fdc2f0-d664-41c3-cc1d-765fd8e625b0"
      },
      "execution_count": null,
      "outputs": [
        {
          "output_type": "stream",
          "name": "stdout",
          "text": [
            "Ingrese el monto de la compra: 1000\n",
            "El cliente debe pagar: 950.0\n"
          ]
        }
      ]
    },
    {
      "cell_type": "code",
      "source": [
        "class Dinosaurio:\n",
        "    def __init__(self, NOM, PES, LON):\n",
        "        self.NOM = NOM\n",
        "        self.PES = PES\n",
        "        self.LON = LON\n",
        "        self.dinosaurio()\n",
        "\n",
        "    def dinosaurio(self):\n",
        "        # Convertir peso de libras a kilogramos (1 libra = 0.453592 kg)\n",
        "        peso_kg = self.PES * 0.453592\n",
        "\n",
        "        # Convertir longitud de pies a metros (1 pie = 0.3047 metros)\n",
        "        longitud_metros = self.LON * 0.3047\n",
        "\n",
        "        # Mostrar resultados\n",
        "        print(f\"Nombre del dinosaurio: {self.NOM}\")\n",
        "        print(f\"Peso en kilogramos: {peso_kg} kg\")\n",
        "        print(f\"Longitud en metros: {longitud_metros} m\")\n",
        "\n",
        "# Ejemplo de uso\n",
        "nombre_dino = input(\"Ingrese el nombre del dinosaurio: \")\n",
        "peso_dino = float(input(\"Ingrese el peso del dinosaurio en libras: \"))\n",
        "longitud_dino = float(input(\"Ingrese la longitud del dinosaurio en pies: \"))\n",
        "\n",
        "dino = Dinosaurio(nombre_dino, peso_dino, longitud_dino)\n"
      ],
      "metadata": {
        "colab": {
          "base_uri": "https://localhost:8080/"
        },
        "id": "I7Nf7fMxiP5L",
        "outputId": "6b2a010b-dcc1-4341-a08e-336755c01d0f"
      },
      "execution_count": null,
      "outputs": [
        {
          "output_type": "stream",
          "name": "stdout",
          "text": [
            "Ingrese el nombre del dinosaurio: Loki\n",
            "Ingrese el peso del dinosaurio en libras: 30864.7\n",
            "Ingrese la longitud del dinosaurio en pies: 6416516\n",
            "Nombre del dinosaurio: Loki\n",
            "Peso en kilogramos: 13999.9810024 kg\n",
            "Longitud en metros: 1955112.4252000002 m\n"
          ]
        }
      ]
    },
    {
      "cell_type": "code",
      "source": [
        "class Dinosaurio:\n",
        "    def __init__(self, NOM, PES, LON):\n",
        "        self.NOM = NOM\n",
        "        self.PES = PES\n",
        "        self.LON = LON\n",
        "        self.PESKIL = 0  # Variable para almacenar el peso en kilogramos\n",
        "        self.LONMET = 0  # Variable para almacenar la longitud en metros\n",
        "        self.dinosaurio()\n",
        "\n",
        "    def dinosaurio(self):\n",
        "        # Convertir peso de libras a kilogramos (1 libra = 0.453592 kg)\n",
        "        self.PESKIL = self.PES * 0.453592\n",
        "\n",
        "        # Convertir longitud de pies a metros (1 pie = 0.3047 metros)\n",
        "        self.LONMET = self.LON * 0.3047\n",
        "\n",
        "        # Mostrar resultados\n",
        "        print(f\"Nombre del dinosaurio: {self.NOM}\")\n",
        "        print(f\"Peso en kilogramos: {self.PESKIL} kg\")\n",
        "        print(f\"Longitud en metros: {self.LONMET} m\")\n",
        "\n",
        "# Ejemplo de uso\n",
        "nombre_dino = input(\"Ingrese el nombre del dinosaurio: \")\n",
        "peso_dino = float(input(\"Ingrese el peso del dinosaurio en libras: \"))\n",
        "longitud_dino = float(input(\"Ingrese la longitud del dinosaurio en pies: \"))\n",
        "\n",
        "dino = Dinosaurio(nombre_dino, peso_dino, longitud_dino)"
      ],
      "metadata": {
        "colab": {
          "base_uri": "https://localhost:8080/"
        },
        "id": "SSDmlEMCjUNr",
        "outputId": "27618667-cbf9-4f7d-de5f-97f7dead77f5"
      },
      "execution_count": null,
      "outputs": [
        {
          "output_type": "stream",
          "name": "stdout",
          "text": [
            "Ingrese el nombre del dinosaurio: Loki\n",
            "Ingrese el peso del dinosaurio en libras: 30864.7\n",
            "Ingrese la longitud del dinosaurio en pies: 6416516\n",
            "Nombre del dinosaurio: Loki\n",
            "Peso en kilogramos: 13999.9810024 kg\n",
            "Longitud en metros: 1955112.4252000002 m\n"
          ]
        }
      ]
    },
    {
      "cell_type": "code",
      "source": [
        "class Gasolinera:\n",
        "    def __init__(self, precio_litro=8.20):\n",
        "        self.precio_litro = precio_litro\n",
        "        self.litros_por_galon = 3.785\n",
        "        self.GAL = 0.0\n",
        "        self.TOTAL = 0.0\n",
        "\n",
        "    def calcular_total(self):\n",
        "        litros = self.GAL * self.litros_por_galon\n",
        "        self.TOTAL = litros * self.precio_litro\n",
        "\n",
        "    def mostrar_recordatorio(self):\n",
        "        print(\"\\nRecordatorio:\")\n",
        "        print(f\"  Precio por litro: ${self.precio_litro:.2f}\")\n",
        "        print(f\"  Litros en cada galón: {self.litros_por_galon:.2f}\\n\")\n",
        "\n",
        "    def mostrar_tabla(self, numero_corrida):\n",
        "        self.calcular_total()\n",
        "\n",
        "        print(f\"{numero_corrida:<15}{self.GAL:<15.2f}{self.TOTAL:.2f}\")\n",
        "\n",
        "# Ejemplo de uso\n",
        "gasolinera_ejemplo = Gasolinera()\n",
        "\n",
        "# Mostrar recordatorio\n",
        "gasolinera_ejemplo.mostrar_recordatorio()\n",
        "\n",
        "# Datos de las corridas\n",
        "datos_corridas = [10.38, 15.90, 8.40, 9.66, 19.90]\n",
        "\n",
        "# Mostrar la tabla\n",
        "print(\"Número de Corrida   Datos   Resultado\")\n",
        "for i, galones in enumerate(datos_corridas, start=1):\n",
        "    gasolinera_ejemplo.GAL = galones\n",
        "    gasolinera_ejemplo.mostrar_tabla(i)\n"
      ],
      "metadata": {
        "colab": {
          "base_uri": "https://localhost:8080/"
        },
        "id": "hpuGf6P-keRj",
        "outputId": "b2988502-1612-41dd-c406-ff870036284b"
      },
      "execution_count": null,
      "outputs": [
        {
          "output_type": "stream",
          "name": "stdout",
          "text": [
            "\n",
            "Recordatorio:\n",
            "  Precio por litro: $8.20\n",
            "  Litros en cada galón: 3.79\n",
            "\n",
            "Número de Corrida   Datos   Resultado\n",
            "1              10.38          322.16\n",
            "2              15.90          493.49\n",
            "3              8.40           260.71\n",
            "4              9.66           299.82\n",
            "5              19.90          617.64\n"
          ]
        }
      ]
    },
    {
      "cell_type": "code",
      "source": [
        "import os\n",
        "\n",
        "class Gasolinera:\n",
        "    def _init_(self, precio_litro=8.20):\n",
        "        self.precio_litro = precio_litro\n",
        "        self.litros_por_galon = 3.785\n",
        "        self.GAL = 0.0\n",
        "        self.TOTAL = 0.0\n",
        "\n",
        "    def calcular_total(self):\n",
        "        litros = self.GAL * self.litros_por_galon\n",
        "        self.TOTAL = litros * self.precio_litro\n",
        "\n",
        "    def mostrar_recordatorio(self):\n",
        "        return f\"\\nRecordatorio:\\nPrecio por litro: ${self.precio_litro:.2f}\\nLitros en cada galón: {self.litros_por_galon:.2f}\\n\"\n",
        "\n",
        "    def mostrar_tabla(self, numero_corrida, galones_tabla):\n",
        "        self.GAL = galones_tabla\n",
        "        self.calcular_total()\n",
        "        return f\"{numero_corrida:<15}{self.GAL:<15.2f}{self.TOTAL:.2f}\"\n",
        "\n",
        "    def archivos_texto(self, filename):\n",
        "        try:\n",
        "            with open(filename, 'w') as file:\n",
        "                # Escribir el recordatorio en el archivo\n",
        "                file.write(self.mostrar_recordatorio())\n",
        "\n",
        "                # Escribir la tabla en el archivo\n",
        "                file.write(\"\\nNúmero de Corrida   Datos   Resultado\\n\")\n",
        "                datos_corridas = [10.38, 15.90, 8.40, 9.66, 19.90]\n",
        "                for i, galones in enumerate(datos_corridas, start=1):\n",
        "                    file.write(self.mostrar_tabla(i, galones) + \"\\n\")\n",
        "\n",
        "            print(f\"Se ha creado y escrito en el archivo: {filename}\")\n",
        "\n",
        "        except Exception as e:\n",
        "            print(f\"Error al escribir en el archivo: {str(e)}\")\n",
        "\n",
        "\n",
        "# Ejemplo de uso\n",
        "gasolinera_ejemplo = Gasolinera()\n",
        "gasolinera_ejemplo.archivos_texto(\"registro_gasolinera.txt\")"
      ],
      "metadata": {
        "colab": {
          "base_uri": "https://localhost:8080/"
        },
        "id": "dr1KVpPzmDt8",
        "outputId": "8155594f-ac3a-4070-cce1-38702bc1a063"
      },
      "execution_count": null,
      "outputs": [
        {
          "output_type": "stream",
          "name": "stdout",
          "text": [
            "Error al escribir en el archivo: 'Gasolinera' object has no attribute 'precio_litro'\n"
          ]
        }
      ]
    },
    {
      "cell_type": "code",
      "source": [
        "class Gasolinera:\n",
        "    def __init__(self, precio_litro):\n",
        "        self.precio_litro = precio_litro\n",
        "\n",
        "    def gasolina(self, litros):\n",
        "        monto_cobrar = litros * self.precio_litro\n",
        "        print(f\"Se surtieron {litros:.2f} litros. Monto a cobrar: ${monto_cobrar:.2f}\")\n",
        "\n",
        "# Ejemplo de uso\n",
        "precio_gasolina = float(input(\"Ingrese el precio por litro de la gasolina: \"))\n",
        "gasolinera_ejemplo = Gasolinera(precio_litro=precio_gasolina)\n",
        "\n",
        "litros_surtidos = float(input(\"Ingrese la cantidad de litros surtidos al cliente: \"))\n",
        "gasolinera_ejemplo.gasolina(litros_surtidos)\n"
      ],
      "metadata": {
        "colab": {
          "base_uri": "https://localhost:8080/"
        },
        "id": "mrBKGXxUpYH7",
        "outputId": "8847d5a0-3988-44c5-b25b-9efadd669015"
      },
      "execution_count": null,
      "outputs": [
        {
          "output_type": "stream",
          "name": "stdout",
          "text": [
            "Ingrese el precio por litro de la gasolina: 25\n",
            "Ingrese la cantidad de litros surtidos al cliente: 3\n",
            "Se surtieron 3.00 litros. Monto a cobrar: $75.00\n"
          ]
        }
      ]
    },
    {
      "cell_type": "code",
      "source": [
        "class Gasolinera:\n",
        "    def __init__(self, precio_litro=8.20):\n",
        "        self.precio_litro = precio_litro\n",
        "        self.litros_por_galon = 3.785\n",
        "        self.GAL = 0.0\n",
        "        self.TOTAL = 0.0\n",
        "\n",
        "    def calcular_total(self):\n",
        "        litros = self.GAL * self.litros_por_galon\n",
        "        self.TOTAL = litros * self.precio_litro\n",
        "\n",
        "    def mostrar_recordatorio(self):\n",
        "        print(\"\\nRecordatorio:\")\n",
        "        print(f\"  Precio por litro: ${self.precio_litro:.2f}\")\n",
        "        print(f\"  Litros en cada galón: {self.litros_por_galon:.2f}\\n\")\n",
        "\n",
        "    def mostrar_tabla(self, numero_corrida):\n",
        "        self.calcular_total()\n",
        "\n",
        "        print(f\"{numero_corrida:<15}{self.GAL:<15.2f}{self.TOTAL:.2f}\")\n",
        "\n",
        "# Ejemplo de uso\n",
        "gasolinera_ejemplo = Gasolinera()\n",
        "\n",
        "# Mostrar recordatorio\n",
        "gasolinera_ejemplo.mostrar_recordatorio()\n",
        "\n",
        "# Datos de las corridas\n",
        "datos_corridas = [10.38, 15.90, 8.40, 9.66, 19.90]\n",
        "\n",
        "# Mostrar la tabla\n",
        "print(\"Número de Corrida   Datos   Resultado\")\n",
        "for i, galones in enumerate(datos_corridas, start=1):\n",
        "    gasolinera_ejemplo.GAL = galones\n",
        "    gasolinera_ejemplo.mostrar_tabla(i)\n"
      ],
      "metadata": {
        "colab": {
          "base_uri": "https://localhost:8080/"
        },
        "id": "hwy0Xhwrpvv2",
        "outputId": "b45e4c99-0834-4091-d8b8-c59ae06af82c"
      },
      "execution_count": null,
      "outputs": [
        {
          "output_type": "stream",
          "name": "stdout",
          "text": [
            "\n",
            "Recordatorio:\n",
            "  Precio por litro: $8.20\n",
            "  Litros en cada galón: 3.79\n",
            "\n",
            "Número de Corrida   Datos   Resultado\n",
            "1              10.38          322.16\n",
            "2              15.90          493.49\n",
            "3              8.40           260.71\n",
            "4              9.66           299.82\n",
            "5              19.90          617.64\n"
          ]
        }
      ]
    },
    {
      "cell_type": "code",
      "source": [
        "!git clone https://github/HFernanda0/PiaProgrmaci-n\n"
      ],
      "metadata": {
        "colab": {
          "base_uri": "https://localhost:8080/"
        },
        "id": "QxBEA75grzeD",
        "outputId": "755dc993-d414-4518-ce39-58c0a7b0941d"
      },
      "execution_count": null,
      "outputs": [
        {
          "output_type": "stream",
          "name": "stdout",
          "text": [
            "Cloning into 'PiaProgrmaci-n'...\n",
            "fatal: unable to access 'https://github/HFernanda0/PiaProgrmaci-n/': Could not resolve host: github\n"
          ]
        }
      ]
    },
    {
      "cell_type": "code",
      "source": [
        "cd sample_data"
      ],
      "metadata": {
        "colab": {
          "base_uri": "https://localhost:8080/"
        },
        "id": "GUBtegDPseQU",
        "outputId": "98232b2b-fedd-4770-d6ff-cb5a9cfaa411"
      },
      "execution_count": 26,
      "outputs": [
        {
          "output_type": "stream",
          "name": "stdout",
          "text": [
            "/content/sample_data\n"
          ]
        }
      ]
    }
  ]
}